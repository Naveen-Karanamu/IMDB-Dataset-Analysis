{
 "cells": [
  {
   "cell_type": "markdown",
   "metadata": {},
   "source": [
    "# IMDB DataSet Analysis"
   ]
  },
  {
   "cell_type": "markdown",
   "metadata": {},
   "source": [
    "* Importing the Libraries\n"
   ]
  },
  {
   "cell_type": "code",
   "execution_count": 2,
   "metadata": {},
   "outputs": [],
   "source": [
    "# Numpy\n",
    "import numpy as np\n",
    "\n",
    "# Pandas\n",
    "import pandas as pd\n",
    "\n",
    "# MatPlotLib\n",
    "import matplotlib.pyplot as plt\n",
    "\n",
    "# Sqlite\n",
    "import sqlite3 as sql"
   ]
  },
  {
   "cell_type": "markdown",
   "metadata": {},
   "source": [
    "* Connecting to the DataBase"
   ]
  },
  {
   "cell_type": "code",
   "execution_count": 3,
   "metadata": {},
   "outputs": [],
   "source": [
    "# db='/content/drive/MyDrive/Projects/IMDB Dataset/movies.sqlite'\n",
    "\n",
    "# Estabishing connections with the database\n",
    "db='movies.sqlite'\n",
    "conn=sql.connect(db)\n",
    "\n",
    "# Calling Cursor function\n",
    "cur=conn.cursor()\n"
   ]
  },
  {
   "cell_type": "markdown",
   "metadata": {},
   "source": [
    "1. Get all the data's of the movies"
   ]
  },
  {
   "cell_type": "code",
   "execution_count": null,
   "metadata": {},
   "outputs": [],
   "source": [
    "cur.execute(\"SELECT * FROM movies\")\n",
    "\n",
    "# Fetching all the datas\n",
    "movies=cur.fetchall()\n",
    "\n",
    "# Displaying the data\n",
    "movies"
   ]
  },
  {
   "cell_type": "markdown",
   "metadata": {},
   "source": [
    "2. Converting data to DataFrame"
   ]
  },
  {
   "cell_type": "code",
   "execution_count": null,
   "metadata": {},
   "outputs": [],
   "source": [
    "# Creating a DataFrame\n",
    "movies=pd.DataFrame(movies,columns=['id','original_title', 'budget', \"popularity\", 'release_date', 'revenue', 'title', 'vote_average', 'vote_count', 'overview', 'tagline', 'uid', 'director_id'])\n",
    "\n",
    "# Displaying the dataframe  \n",
    "movies"
   ]
  },
  {
   "cell_type": "markdown",
   "metadata": {},
   "source": [
    "3. Getting information of the dataset"
   ]
  },
  {
   "cell_type": "code",
   "execution_count": 82,
   "metadata": {},
   "outputs": [
    {
     "name": "stdout",
     "output_type": "stream",
     "text": [
      "<class 'pandas.core.frame.DataFrame'>\n",
      "RangeIndex: 4773 entries, 0 to 4772\n",
      "Data columns (total 13 columns):\n",
      " #   Column          Non-Null Count  Dtype  \n",
      "---  ------          --------------  -----  \n",
      " 0   id              4773 non-null   int64  \n",
      " 1   original_title  4773 non-null   object \n",
      " 2   budget          4773 non-null   int64  \n",
      " 3   popularity      4773 non-null   int64  \n",
      " 4   release_date    4773 non-null   object \n",
      " 5   revenue         4773 non-null   int64  \n",
      " 6   title           4773 non-null   object \n",
      " 7   avg_ratings     4773 non-null   float64\n",
      " 8   rating_count    4773 non-null   int64  \n",
      " 9   overview        4770 non-null   object \n",
      " 10  tagline         3951 non-null   object \n",
      " 11  uid             4773 non-null   int64  \n",
      " 12  director_id     4773 non-null   int64  \n",
      "dtypes: float64(1), int64(7), object(5)\n",
      "memory usage: 484.9+ KB\n"
     ]
    }
   ],
   "source": [
    "movies.info()"
   ]
  },
  {
   "cell_type": "markdown",
   "metadata": {},
   "source": [
    "4. Get all the data about directors"
   ]
  },
  {
   "cell_type": "code",
   "execution_count": null,
   "metadata": {},
   "outputs": [],
   "source": [
    "# Queried the directors\n",
    "cur.execute(\"SELECT * FROM directors\")\n",
    "directors=cur.fetchall()\n",
    "\n",
    "# Calling the directors var\n",
    "directors"
   ]
  },
  {
   "cell_type": "code",
   "execution_count": null,
   "metadata": {},
   "outputs": [],
   "source": [
    "# converting the directors data into a DataFrame\n",
    "directors=pd.DataFrame(directors, columns=[\"name\", \"id\", \"gender\", \"uid\", 'department'])\n",
    "directors"
   ]
  },
  {
   "cell_type": "markdown",
   "metadata": {},
   "source": [
    "5. Check how many movies are present in the IMDB table"
   ]
  },
  {
   "cell_type": "code",
   "execution_count": 84,
   "metadata": {},
   "outputs": [
    {
     "name": "stdout",
     "output_type": "stream",
     "text": [
      "The number of movies present in the IMDB dataset is (4773,)\n"
     ]
    }
   ],
   "source": [
    "cur.execute(\"SELECT COUNT(id) FROM movies\")\n",
    "count=cur.fetchall()\n",
    "print(f\"The number of movies present in the IMDB dataset is {count[0]}\")"
   ]
  },
  {
   "cell_type": "markdown",
   "metadata": {},
   "source": [
    "6. Find the directors : James Cameron, Luc Besson, John Woo"
   ]
  },
  {
   "cell_type": "code",
   "execution_count": 85,
   "metadata": {},
   "outputs": [
    {
     "name": "stdout",
     "output_type": "stream",
     "text": [
      "The three required directors are [('James Cameron', 4762, 2, 2710, 'Directing'), ('John Woo', 4893, 2, 11401, 'Directing'), ('Luc Besson', 4949, 2, 59, 'Directing')]\n"
     ]
    }
   ],
   "source": [
    "# cur.execute('''SELECT * FROM directors WHERE name=\"James Cameron\" or name=\"Luc Besson\" or name=\"John Woo\"''')\n",
    "cur.execute('''SELECT * FROM directors WHERE name in (\"James Cameron\", \"Luc Besson\", \"John Woo\")''')\n",
    "req_directors=cur.fetchall()\n",
    "print(f\"The three required directors are {req_directors}\")"
   ]
  },
  {
   "cell_type": "markdown",
   "metadata": {},
   "source": [
    "7. Find all the directors with name starting with the word 'Steven'"
   ]
  },
  {
   "cell_type": "code",
   "execution_count": 40,
   "metadata": {},
   "outputs": [
    {
     "name": "stdout",
     "output_type": "stream",
     "text": [
      "The directors whose name stats with the word 'Steven' are [('Steven Spielberg', 4799, 2, 488, 'Directing'), ('Steven Soderbergh', 4909, 2, 1884, 'Directing'), ('Steven Brill', 5013, 2, 32593, 'Directing'), ('Steven Zaillian', 5117, 2, 2260, 'Directing'), ('Steven Quale', 5216, 2, 93214, 'Directing'), ('Steven Seagal', 5221, 2, 23880, 'Directing'), ('Steven E. de Souza', 5390, 2, 1726, 'Directing'), ('Steven Shainberg', 5803, 2, 67795, 'Directing'), ('Steven R. Monroe', 6713, 2, 88039, 'Directing')]\n"
     ]
    }
   ],
   "source": [
    "cur.execute('''SELECT * FROM directors WHERE name LIKE \"Steven%\"''')\n",
    "word_starting_directors=cur.fetchall()\n",
    "print(f\"The directors whose name stats with the word 'Steven' are {word_starting_directors}\")"
   ]
  },
  {
   "cell_type": "markdown",
   "metadata": {},
   "source": [
    "8. Count the female directors (1)"
   ]
  },
  {
   "cell_type": "code",
   "execution_count": 45,
   "metadata": {},
   "outputs": [
    {
     "name": "stdout",
     "output_type": "stream",
     "text": [
      "The number of female directors are 150\n"
     ]
    }
   ],
   "source": [
    "cur.execute('''SELECT COUNT(name) FROM directors WHERE gender=1''')\n",
    "female_directors_count=cur.fetchall()\n",
    "print(f\"The number of female directors are {female_directors_count[0][0]}\")"
   ]
  },
  {
   "cell_type": "markdown",
   "metadata": {},
   "source": [
    "9. Find the name of the 10th first women directors"
   ]
  },
  {
   "cell_type": "code",
   "execution_count": null,
   "metadata": {},
   "outputs": [],
   "source": [
    "cur.execute('''SELECT name FROM directors WHERE gender=1''')\n",
    "female_directors=cur.fetchall()\n",
    "print(f\"The 1st 10th female director is {female_directors[9][0]}\")"
   ]
  },
  {
   "cell_type": "markdown",
   "metadata": {},
   "source": [
    "10. What are the 3 most popular movies"
   ]
  },
  {
   "cell_type": "code",
   "execution_count": 66,
   "metadata": {},
   "outputs": [
    {
     "name": "stdout",
     "output_type": "stream",
     "text": [
      "The 3 popular movies are : Minions, Interstellar,Deadpool\n"
     ]
    }
   ],
   "source": [
    "cur.execute('''SELECT original_title FROM movies ORDER BY popularity DESC LIMIT 3''')\n",
    "popular_movies=cur.fetchall()\n",
    "print(f\"The 3 popular movies are : {popular_movies[0][0]}, {popular_movies[1][0]},{popular_movies[2][0]}\")"
   ]
  },
  {
   "cell_type": "markdown",
   "metadata": {},
   "source": [
    "11. What are the 3 most bankable movies"
   ]
  },
  {
   "cell_type": "code",
   "execution_count": 137,
   "metadata": {},
   "outputs": [
    {
     "name": "stdout",
     "output_type": "stream",
     "text": [
      "The 3 popular movies are : Pirates of the Caribbean: On Stranger Tides, Pirates of the Caribbean: At World's End,Avengers: Age of Ultron\n"
     ]
    }
   ],
   "source": [
    "cur.execute('''SELECT original_title FROM movies ORDER BY budget DESC LIMIT 3''')\n",
    "bankable_movies=cur.fetchall()\n",
    "print(f\"The 3 popular movies are : {bankable_movies[0][0]}, {bankable_movies[1][0]},{bankable_movies[2][0]}\")"
   ]
  },
  {
   "cell_type": "markdown",
   "metadata": {},
   "source": [
    "12. Find the most awarded Average vote movies since Jan 1st 2000"
   ]
  },
  {
   "cell_type": "code",
   "execution_count": 105,
   "metadata": {},
   "outputs": [
    {
     "name": "stdout",
     "output_type": "stream",
     "text": [
      "Most awarded average rated movie is Stiff Upper Lips\n"
     ]
    }
   ],
   "source": [
    "cur.execute('''SELECT original_title FROM movies WHERE release_date > 2000-01-01 ORDER BY vote_average DESC LIMIT 1''')\n",
    "most_awarded_avg=cur.fetchall()\n",
    "print(f\"Most awarded average rated movie is {most_awarded_avg[0][0]}\")"
   ]
  },
  {
   "cell_type": "markdown",
   "metadata": {},
   "source": [
    "13. Which movies were directed by Brenda Chapman?"
   ]
  },
  {
   "cell_type": "code",
   "execution_count": 119,
   "metadata": {},
   "outputs": [
    {
     "name": "stdout",
     "output_type": "stream",
     "text": [
      "The movies(s) which are directed by Brenda Chapman are Brave\n"
     ]
    }
   ],
   "source": [
    "cur.execute('''SELECT movies.original_title FROM movies \n",
    "            INNER JOIN directors\n",
    "            ON movies.director_id=directors.id\n",
    "            WHERE directors.name=\"Brenda Chapman\"''')\n",
    "\n",
    "directed_movies=cur.fetchall()\n",
    "print(f\"The movies(s) which are directed by Brenda Chapman are {directed_movies[0][0]}\")"
   ]
  },
  {
   "cell_type": "markdown",
   "metadata": {},
   "source": [
    "14. Name the director who has directed the most number of movies"
   ]
  },
  {
   "cell_type": "code",
   "execution_count": 132,
   "metadata": {},
   "outputs": [
    {
     "name": "stdout",
     "output_type": "stream",
     "text": [
      "The director who directed most number of movies is Steven Spielberg\n"
     ]
    }
   ],
   "source": [
    "cur.execute('''SELECT directors.name FROM directors \n",
    "            INNER JOIN movies\n",
    "            ON movies.director_id=directors.id\n",
    "            GROUP BY directors.name\n",
    "            ORDER BY COUNT(movies.original_title) DESC LIMIT 1''')\n",
    "\n",
    "most_directed_movies=cur.fetchall()\n",
    "print(f\"The director who directed most number of movies is {most_directed_movies[0][0]}\")"
   ]
  },
  {
   "cell_type": "markdown",
   "metadata": {},
   "source": [
    "15. Find the name of the director who is most bankable"
   ]
  },
  {
   "cell_type": "code",
   "execution_count": 133,
   "metadata": {},
   "outputs": [
    {
     "name": "stdout",
     "output_type": "stream",
     "text": [
      "The director who directed most bankable is Steven Spielberg\n"
     ]
    }
   ],
   "source": [
    "cur.execute('''SELECT directors.name FROM directors \n",
    "            INNER JOIN movies\n",
    "            ON movies.director_id=directors.id\n",
    "            GROUP BY directors.name\n",
    "            ORDER BY SUM(budget) DESC LIMIT 1''')\n",
    "\n",
    "most_bankable_movies=cur.fetchall()\n",
    "print(f\"The director who directed most bankable is {most_bankable_movies[0][0]}\")"
   ]
  },
  {
   "cell_type": "markdown",
   "metadata": {},
   "source": [
    "# Budget Analysis"
   ]
  },
  {
   "cell_type": "markdown",
   "metadata": {},
   "source": [
    "1. Find the top 10 highest Budget making movies"
   ]
  },
  {
   "cell_type": "code",
   "execution_count": 143,
   "metadata": {},
   "outputs": [
    {
     "data": {
      "text/html": [
       "<div>\n",
       "<style scoped>\n",
       "    .dataframe tbody tr th:only-of-type {\n",
       "        vertical-align: middle;\n",
       "    }\n",
       "\n",
       "    .dataframe tbody tr th {\n",
       "        vertical-align: top;\n",
       "    }\n",
       "\n",
       "    .dataframe thead th {\n",
       "        text-align: right;\n",
       "    }\n",
       "</style>\n",
       "<table border=\"1\" class=\"dataframe\">\n",
       "  <thead>\n",
       "    <tr style=\"text-align: right;\">\n",
       "      <th></th>\n",
       "      <th>id</th>\n",
       "      <th>original_title</th>\n",
       "      <th>budget</th>\n",
       "      <th>popularity</th>\n",
       "      <th>release_date</th>\n",
       "      <th>revenue</th>\n",
       "      <th>title</th>\n",
       "      <th>vote_average</th>\n",
       "      <th>vote_count</th>\n",
       "      <th>overview</th>\n",
       "      <th>tagline</th>\n",
       "      <th>uid</th>\n",
       "      <th>director_id</th>\n",
       "    </tr>\n",
       "  </thead>\n",
       "  <tbody>\n",
       "    <tr>\n",
       "      <th>0</th>\n",
       "      <td>43614</td>\n",
       "      <td>Pirates of the Caribbean: On Stranger Tides</td>\n",
       "      <td>380000000</td>\n",
       "      <td>135</td>\n",
       "      <td>2011-05-14</td>\n",
       "      <td>1045713802</td>\n",
       "      <td>Pirates of the Caribbean: On Stranger Tides</td>\n",
       "      <td>6.4</td>\n",
       "      <td>4948</td>\n",
       "      <td>Captain Jack Sparrow crosses paths with a woma...</td>\n",
       "      <td>Live Forever Or Die Trying.</td>\n",
       "      <td>1865</td>\n",
       "      <td>4775</td>\n",
       "    </tr>\n",
       "    <tr>\n",
       "      <th>1</th>\n",
       "      <td>43598</td>\n",
       "      <td>Pirates of the Caribbean: At World's End</td>\n",
       "      <td>300000000</td>\n",
       "      <td>139</td>\n",
       "      <td>2007-05-19</td>\n",
       "      <td>961000000</td>\n",
       "      <td>Pirates of the Caribbean: At World's End</td>\n",
       "      <td>6.9</td>\n",
       "      <td>4500</td>\n",
       "      <td>Captain Barbossa, long believed to be dead, ha...</td>\n",
       "      <td>At the end of the world, the adventure begins.</td>\n",
       "      <td>285</td>\n",
       "      <td>4763</td>\n",
       "    </tr>\n",
       "    <tr>\n",
       "      <th>2</th>\n",
       "      <td>43604</td>\n",
       "      <td>Avengers: Age of Ultron</td>\n",
       "      <td>280000000</td>\n",
       "      <td>134</td>\n",
       "      <td>2015-04-22</td>\n",
       "      <td>1405403694</td>\n",
       "      <td>Avengers: Age of Ultron</td>\n",
       "      <td>7.3</td>\n",
       "      <td>6767</td>\n",
       "      <td>When Tony Stark tries to jumpstart a dormant p...</td>\n",
       "      <td>A New Age Has Come.</td>\n",
       "      <td>99861</td>\n",
       "      <td>4769</td>\n",
       "    </tr>\n",
       "    <tr>\n",
       "      <th>3</th>\n",
       "      <td>43607</td>\n",
       "      <td>Superman Returns</td>\n",
       "      <td>270000000</td>\n",
       "      <td>57</td>\n",
       "      <td>2006-06-28</td>\n",
       "      <td>391081192</td>\n",
       "      <td>Superman Returns</td>\n",
       "      <td>5.4</td>\n",
       "      <td>1400</td>\n",
       "      <td>Superman returns to discover his 5-year absenc...</td>\n",
       "      <td>None</td>\n",
       "      <td>1452</td>\n",
       "      <td>4772</td>\n",
       "    </tr>\n",
       "    <tr>\n",
       "      <th>4</th>\n",
       "      <td>43601</td>\n",
       "      <td>John Carter</td>\n",
       "      <td>260000000</td>\n",
       "      <td>43</td>\n",
       "      <td>2012-03-07</td>\n",
       "      <td>284139100</td>\n",
       "      <td>John Carter</td>\n",
       "      <td>6.1</td>\n",
       "      <td>2124</td>\n",
       "      <td>John Carter is a war-weary, former military ca...</td>\n",
       "      <td>Lost in our world, found in another.</td>\n",
       "      <td>49529</td>\n",
       "      <td>4766</td>\n",
       "    </tr>\n",
       "    <tr>\n",
       "      <th>5</th>\n",
       "      <td>43603</td>\n",
       "      <td>Tangled</td>\n",
       "      <td>260000000</td>\n",
       "      <td>48</td>\n",
       "      <td>2010-11-24</td>\n",
       "      <td>591794936</td>\n",
       "      <td>Tangled</td>\n",
       "      <td>7.4</td>\n",
       "      <td>3330</td>\n",
       "      <td>When the kingdom's most wanted-and most charmi...</td>\n",
       "      <td>They're taking adventure to new lengths.</td>\n",
       "      <td>38757</td>\n",
       "      <td>4768</td>\n",
       "    </tr>\n",
       "    <tr>\n",
       "      <th>6</th>\n",
       "      <td>43602</td>\n",
       "      <td>Spider-Man 3</td>\n",
       "      <td>258000000</td>\n",
       "      <td>115</td>\n",
       "      <td>2007-05-01</td>\n",
       "      <td>890871626</td>\n",
       "      <td>Spider-Man 3</td>\n",
       "      <td>5.9</td>\n",
       "      <td>3576</td>\n",
       "      <td>The seemingly invincible Spider-Man goes up ag...</td>\n",
       "      <td>The battle within.</td>\n",
       "      <td>559</td>\n",
       "      <td>4767</td>\n",
       "    </tr>\n",
       "    <tr>\n",
       "      <th>7</th>\n",
       "      <td>43610</td>\n",
       "      <td>The Lone Ranger</td>\n",
       "      <td>255000000</td>\n",
       "      <td>49</td>\n",
       "      <td>2013-07-03</td>\n",
       "      <td>89289910</td>\n",
       "      <td>The Lone Ranger</td>\n",
       "      <td>5.9</td>\n",
       "      <td>2311</td>\n",
       "      <td>The Texas Rangers chase down a gang of outlaws...</td>\n",
       "      <td>Never Take Off the Mask</td>\n",
       "      <td>57201</td>\n",
       "      <td>4763</td>\n",
       "    </tr>\n",
       "    <tr>\n",
       "      <th>8</th>\n",
       "      <td>43600</td>\n",
       "      <td>The Dark Knight Rises</td>\n",
       "      <td>250000000</td>\n",
       "      <td>112</td>\n",
       "      <td>2012-07-16</td>\n",
       "      <td>1084939099</td>\n",
       "      <td>The Dark Knight Rises</td>\n",
       "      <td>7.6</td>\n",
       "      <td>9106</td>\n",
       "      <td>Following the death of District Attorney Harve...</td>\n",
       "      <td>The Legend Ends</td>\n",
       "      <td>49026</td>\n",
       "      <td>4765</td>\n",
       "    </tr>\n",
       "    <tr>\n",
       "      <th>9</th>\n",
       "      <td>43605</td>\n",
       "      <td>Harry Potter and the Half-Blood Prince</td>\n",
       "      <td>250000000</td>\n",
       "      <td>98</td>\n",
       "      <td>2009-07-07</td>\n",
       "      <td>933959197</td>\n",
       "      <td>Harry Potter and the Half-Blood Prince</td>\n",
       "      <td>7.4</td>\n",
       "      <td>5293</td>\n",
       "      <td>As Harry begins his sixth year at Hogwarts, he...</td>\n",
       "      <td>Dark Secrets Revealed</td>\n",
       "      <td>767</td>\n",
       "      <td>4770</td>\n",
       "    </tr>\n",
       "  </tbody>\n",
       "</table>\n",
       "</div>"
      ],
      "text/plain": [
       "      id                               original_title     budget  popularity  \\\n",
       "0  43614  Pirates of the Caribbean: On Stranger Tides  380000000         135   \n",
       "1  43598     Pirates of the Caribbean: At World's End  300000000         139   \n",
       "2  43604                      Avengers: Age of Ultron  280000000         134   \n",
       "3  43607                             Superman Returns  270000000          57   \n",
       "4  43601                                  John Carter  260000000          43   \n",
       "5  43603                                      Tangled  260000000          48   \n",
       "6  43602                                 Spider-Man 3  258000000         115   \n",
       "7  43610                              The Lone Ranger  255000000          49   \n",
       "8  43600                        The Dark Knight Rises  250000000         112   \n",
       "9  43605       Harry Potter and the Half-Blood Prince  250000000          98   \n",
       "\n",
       "  release_date     revenue                                        title  \\\n",
       "0   2011-05-14  1045713802  Pirates of the Caribbean: On Stranger Tides   \n",
       "1   2007-05-19   961000000     Pirates of the Caribbean: At World's End   \n",
       "2   2015-04-22  1405403694                      Avengers: Age of Ultron   \n",
       "3   2006-06-28   391081192                             Superman Returns   \n",
       "4   2012-03-07   284139100                                  John Carter   \n",
       "5   2010-11-24   591794936                                      Tangled   \n",
       "6   2007-05-01   890871626                                 Spider-Man 3   \n",
       "7   2013-07-03    89289910                              The Lone Ranger   \n",
       "8   2012-07-16  1084939099                        The Dark Knight Rises   \n",
       "9   2009-07-07   933959197       Harry Potter and the Half-Blood Prince   \n",
       "\n",
       "   vote_average  vote_count  \\\n",
       "0           6.4        4948   \n",
       "1           6.9        4500   \n",
       "2           7.3        6767   \n",
       "3           5.4        1400   \n",
       "4           6.1        2124   \n",
       "5           7.4        3330   \n",
       "6           5.9        3576   \n",
       "7           5.9        2311   \n",
       "8           7.6        9106   \n",
       "9           7.4        5293   \n",
       "\n",
       "                                            overview  \\\n",
       "0  Captain Jack Sparrow crosses paths with a woma...   \n",
       "1  Captain Barbossa, long believed to be dead, ha...   \n",
       "2  When Tony Stark tries to jumpstart a dormant p...   \n",
       "3  Superman returns to discover his 5-year absenc...   \n",
       "4  John Carter is a war-weary, former military ca...   \n",
       "5  When the kingdom's most wanted-and most charmi...   \n",
       "6  The seemingly invincible Spider-Man goes up ag...   \n",
       "7  The Texas Rangers chase down a gang of outlaws...   \n",
       "8  Following the death of District Attorney Harve...   \n",
       "9  As Harry begins his sixth year at Hogwarts, he...   \n",
       "\n",
       "                                          tagline    uid  director_id  \n",
       "0                     Live Forever Or Die Trying.   1865         4775  \n",
       "1  At the end of the world, the adventure begins.    285         4763  \n",
       "2                             A New Age Has Come.  99861         4769  \n",
       "3                                            None   1452         4772  \n",
       "4            Lost in our world, found in another.  49529         4766  \n",
       "5        They're taking adventure to new lengths.  38757         4768  \n",
       "6                              The battle within.    559         4767  \n",
       "7                         Never Take Off the Mask  57201         4763  \n",
       "8                                 The Legend Ends  49026         4765  \n",
       "9                           Dark Secrets Revealed    767         4770  "
      ]
     },
     "execution_count": 143,
     "metadata": {},
     "output_type": "execute_result"
    }
   ],
   "source": [
    "cur.execute('''SELECT * FROM movies ORDER BY budget DESC LIMIT 10''')\n",
    "top_ten_budget=cur.fetchall()\n",
    "top_ten__budgetdf=pd.DataFrame(top_ten_budget,columns=['id','original_title', 'budget', \"popularity\", 'release_date', 'revenue', 'title', 'vote_average', 'vote_count', 'overview', 'tagline', 'uid', 'director_id'])\n",
    "top_ten__budgetdf"
   ]
  },
  {
   "cell_type": "markdown",
   "metadata": {},
   "source": [
    "# Revenue Analysis"
   ]
  },
  {
   "cell_type": "markdown",
   "metadata": {},
   "source": [
    "1. Find top 10 Revenue making movies"
   ]
  },
  {
   "cell_type": "code",
   "execution_count": 144,
   "metadata": {},
   "outputs": [
    {
     "data": {
      "text/html": [
       "<div>\n",
       "<style scoped>\n",
       "    .dataframe tbody tr th:only-of-type {\n",
       "        vertical-align: middle;\n",
       "    }\n",
       "\n",
       "    .dataframe tbody tr th {\n",
       "        vertical-align: top;\n",
       "    }\n",
       "\n",
       "    .dataframe thead th {\n",
       "        text-align: right;\n",
       "    }\n",
       "</style>\n",
       "<table border=\"1\" class=\"dataframe\">\n",
       "  <thead>\n",
       "    <tr style=\"text-align: right;\">\n",
       "      <th></th>\n",
       "      <th>id</th>\n",
       "      <th>original_title</th>\n",
       "      <th>budget</th>\n",
       "      <th>popularity</th>\n",
       "      <th>release_date</th>\n",
       "      <th>revenue</th>\n",
       "      <th>title</th>\n",
       "      <th>vote_average</th>\n",
       "      <th>vote_count</th>\n",
       "      <th>overview</th>\n",
       "      <th>tagline</th>\n",
       "      <th>uid</th>\n",
       "      <th>director_id</th>\n",
       "    </tr>\n",
       "  </thead>\n",
       "  <tbody>\n",
       "    <tr>\n",
       "      <th>0</th>\n",
       "      <td>43597</td>\n",
       "      <td>Avatar</td>\n",
       "      <td>237000000</td>\n",
       "      <td>150</td>\n",
       "      <td>2009-12-10</td>\n",
       "      <td>2787965087</td>\n",
       "      <td>Avatar</td>\n",
       "      <td>7.2</td>\n",
       "      <td>11800</td>\n",
       "      <td>In the 22nd century, a paraplegic Marine is di...</td>\n",
       "      <td>Enter the World of Pandora.</td>\n",
       "      <td>19995</td>\n",
       "      <td>4762</td>\n",
       "    </tr>\n",
       "    <tr>\n",
       "      <th>1</th>\n",
       "      <td>43622</td>\n",
       "      <td>Titanic</td>\n",
       "      <td>200000000</td>\n",
       "      <td>100</td>\n",
       "      <td>1997-11-18</td>\n",
       "      <td>1845034188</td>\n",
       "      <td>Titanic</td>\n",
       "      <td>7.5</td>\n",
       "      <td>7562</td>\n",
       "      <td>84 years later, a 101-year-old woman named Ros...</td>\n",
       "      <td>Nothing on Earth could come between them.</td>\n",
       "      <td>597</td>\n",
       "      <td>4762</td>\n",
       "    </tr>\n",
       "    <tr>\n",
       "      <th>2</th>\n",
       "      <td>43613</td>\n",
       "      <td>The Avengers</td>\n",
       "      <td>220000000</td>\n",
       "      <td>144</td>\n",
       "      <td>2012-04-25</td>\n",
       "      <td>1519557910</td>\n",
       "      <td>The Avengers</td>\n",
       "      <td>7.4</td>\n",
       "      <td>11776</td>\n",
       "      <td>When an unexpected enemy emerges and threatens...</td>\n",
       "      <td>Some assembly required.</td>\n",
       "      <td>24428</td>\n",
       "      <td>4769</td>\n",
       "    </tr>\n",
       "    <tr>\n",
       "      <th>3</th>\n",
       "      <td>43625</td>\n",
       "      <td>Jurassic World</td>\n",
       "      <td>150000000</td>\n",
       "      <td>418</td>\n",
       "      <td>2015-06-09</td>\n",
       "      <td>1513528810</td>\n",
       "      <td>Jurassic World</td>\n",
       "      <td>6.5</td>\n",
       "      <td>8662</td>\n",
       "      <td>Twenty-two years after the events of Jurassic ...</td>\n",
       "      <td>The park is open.</td>\n",
       "      <td>135397</td>\n",
       "      <td>4783</td>\n",
       "    </tr>\n",
       "    <tr>\n",
       "      <th>4</th>\n",
       "      <td>43641</td>\n",
       "      <td>Furious 7</td>\n",
       "      <td>190000000</td>\n",
       "      <td>102</td>\n",
       "      <td>2015-04-01</td>\n",
       "      <td>1506249360</td>\n",
       "      <td>Furious 7</td>\n",
       "      <td>7.3</td>\n",
       "      <td>4176</td>\n",
       "      <td>Deckard Shaw seeks revenge against Dominic Tor...</td>\n",
       "      <td>Vengeance Hits Home</td>\n",
       "      <td>168259</td>\n",
       "      <td>4794</td>\n",
       "    </tr>\n",
       "    <tr>\n",
       "      <th>5</th>\n",
       "      <td>43604</td>\n",
       "      <td>Avengers: Age of Ultron</td>\n",
       "      <td>280000000</td>\n",
       "      <td>134</td>\n",
       "      <td>2015-04-22</td>\n",
       "      <td>1405403694</td>\n",
       "      <td>Avengers: Age of Ultron</td>\n",
       "      <td>7.3</td>\n",
       "      <td>6767</td>\n",
       "      <td>When Tony Stark tries to jumpstart a dormant p...</td>\n",
       "      <td>A New Age Has Come.</td>\n",
       "      <td>99861</td>\n",
       "      <td>4769</td>\n",
       "    </tr>\n",
       "    <tr>\n",
       "      <th>6</th>\n",
       "      <td>43721</td>\n",
       "      <td>Frozen</td>\n",
       "      <td>150000000</td>\n",
       "      <td>165</td>\n",
       "      <td>2013-11-27</td>\n",
       "      <td>1274219009</td>\n",
       "      <td>Frozen</td>\n",
       "      <td>7.3</td>\n",
       "      <td>5295</td>\n",
       "      <td>Young princess Anna of Arendelle dreams about ...</td>\n",
       "      <td>Only the act of true love will thaw a frozen h...</td>\n",
       "      <td>109445</td>\n",
       "      <td>4844</td>\n",
       "    </tr>\n",
       "    <tr>\n",
       "      <th>7</th>\n",
       "      <td>43628</td>\n",
       "      <td>Iron Man 3</td>\n",
       "      <td>200000000</td>\n",
       "      <td>77</td>\n",
       "      <td>2013-04-18</td>\n",
       "      <td>1215439994</td>\n",
       "      <td>Iron Man 3</td>\n",
       "      <td>6.8</td>\n",
       "      <td>8806</td>\n",
       "      <td>When Tony Stark's world is torn apart by a for...</td>\n",
       "      <td>Unleash the power behind the armor.</td>\n",
       "      <td>68721</td>\n",
       "      <td>4784</td>\n",
       "    </tr>\n",
       "    <tr>\n",
       "      <th>8</th>\n",
       "      <td>44143</td>\n",
       "      <td>Minions</td>\n",
       "      <td>74000000</td>\n",
       "      <td>875</td>\n",
       "      <td>2015-06-17</td>\n",
       "      <td>1156730962</td>\n",
       "      <td>Minions</td>\n",
       "      <td>6.4</td>\n",
       "      <td>4571</td>\n",
       "      <td>Minions Stuart, Kevin and Bob are recruited by...</td>\n",
       "      <td>Before Gru, they had a history of bad bosses</td>\n",
       "      <td>211672</td>\n",
       "      <td>5045</td>\n",
       "    </tr>\n",
       "    <tr>\n",
       "      <th>9</th>\n",
       "      <td>43623</td>\n",
       "      <td>Captain America: Civil War</td>\n",
       "      <td>250000000</td>\n",
       "      <td>198</td>\n",
       "      <td>2016-04-27</td>\n",
       "      <td>1153304495</td>\n",
       "      <td>Captain America: Civil War</td>\n",
       "      <td>7.1</td>\n",
       "      <td>7241</td>\n",
       "      <td>Following the events of Age of Ultron, the col...</td>\n",
       "      <td>Divided We Fall</td>\n",
       "      <td>271110</td>\n",
       "      <td>4781</td>\n",
       "    </tr>\n",
       "  </tbody>\n",
       "</table>\n",
       "</div>"
      ],
      "text/plain": [
       "      id              original_title     budget  popularity release_date  \\\n",
       "0  43597                      Avatar  237000000         150   2009-12-10   \n",
       "1  43622                     Titanic  200000000         100   1997-11-18   \n",
       "2  43613                The Avengers  220000000         144   2012-04-25   \n",
       "3  43625              Jurassic World  150000000         418   2015-06-09   \n",
       "4  43641                   Furious 7  190000000         102   2015-04-01   \n",
       "5  43604     Avengers: Age of Ultron  280000000         134   2015-04-22   \n",
       "6  43721                      Frozen  150000000         165   2013-11-27   \n",
       "7  43628                  Iron Man 3  200000000          77   2013-04-18   \n",
       "8  44143                     Minions   74000000         875   2015-06-17   \n",
       "9  43623  Captain America: Civil War  250000000         198   2016-04-27   \n",
       "\n",
       "      revenue                       title  vote_average  vote_count  \\\n",
       "0  2787965087                      Avatar           7.2       11800   \n",
       "1  1845034188                     Titanic           7.5        7562   \n",
       "2  1519557910                The Avengers           7.4       11776   \n",
       "3  1513528810              Jurassic World           6.5        8662   \n",
       "4  1506249360                   Furious 7           7.3        4176   \n",
       "5  1405403694     Avengers: Age of Ultron           7.3        6767   \n",
       "6  1274219009                      Frozen           7.3        5295   \n",
       "7  1215439994                  Iron Man 3           6.8        8806   \n",
       "8  1156730962                     Minions           6.4        4571   \n",
       "9  1153304495  Captain America: Civil War           7.1        7241   \n",
       "\n",
       "                                            overview  \\\n",
       "0  In the 22nd century, a paraplegic Marine is di...   \n",
       "1  84 years later, a 101-year-old woman named Ros...   \n",
       "2  When an unexpected enemy emerges and threatens...   \n",
       "3  Twenty-two years after the events of Jurassic ...   \n",
       "4  Deckard Shaw seeks revenge against Dominic Tor...   \n",
       "5  When Tony Stark tries to jumpstart a dormant p...   \n",
       "6  Young princess Anna of Arendelle dreams about ...   \n",
       "7  When Tony Stark's world is torn apart by a for...   \n",
       "8  Minions Stuart, Kevin and Bob are recruited by...   \n",
       "9  Following the events of Age of Ultron, the col...   \n",
       "\n",
       "                                             tagline     uid  director_id  \n",
       "0                        Enter the World of Pandora.   19995         4762  \n",
       "1          Nothing on Earth could come between them.     597         4762  \n",
       "2                            Some assembly required.   24428         4769  \n",
       "3                                  The park is open.  135397         4783  \n",
       "4                                Vengeance Hits Home  168259         4794  \n",
       "5                                A New Age Has Come.   99861         4769  \n",
       "6  Only the act of true love will thaw a frozen h...  109445         4844  \n",
       "7                Unleash the power behind the armor.   68721         4784  \n",
       "8       Before Gru, they had a history of bad bosses  211672         5045  \n",
       "9                                    Divided We Fall  271110         4781  "
      ]
     },
     "execution_count": 144,
     "metadata": {},
     "output_type": "execute_result"
    }
   ],
   "source": [
    "cur.execute('''SELECT * FROM movies ORDER BY revenue DESC LIMIT 10''')\n",
    "top_ten_revenue=cur.fetchall()\n",
    "top_ten_revenue_df=pd.DataFrame(top_ten_revenue,columns=['id','original_title', 'budget', \"popularity\", 'release_date', 'revenue', 'title', 'vote_average', 'vote_count', 'overview', 'tagline', 'uid', 'director_id'])\n",
    "top_ten_revenue_df"
   ]
  }
 ],
 "metadata": {
  "interpreter": {
   "hash": "cb4a6ece8dc9cf1f5b1565d05f1a189d257ecb16f7f86b5ca0cc8563c18481dc"
  },
  "kernelspec": {
   "display_name": "Python 3.9.7 ('base')",
   "language": "python",
   "name": "python3"
  },
  "language_info": {
   "codemirror_mode": {
    "name": "ipython",
    "version": 3
   },
   "file_extension": ".py",
   "mimetype": "text/x-python",
   "name": "python",
   "nbconvert_exporter": "python",
   "pygments_lexer": "ipython3",
   "version": "3.9.7"
  },
  "orig_nbformat": 4
 },
 "nbformat": 4,
 "nbformat_minor": 2
}
