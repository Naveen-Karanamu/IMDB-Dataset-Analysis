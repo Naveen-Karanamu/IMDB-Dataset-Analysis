{
 "cells": [
  {
   "cell_type": "markdown",
   "metadata": {},
   "source": [
    "# IMDB DataSet Analysis"
   ]
  },
  {
   "cell_type": "markdown",
   "metadata": {},
   "source": [
    "* Importing the Libraries\n"
   ]
  },
  {
   "cell_type": "code",
   "execution_count": 2,
   "metadata": {},
   "outputs": [],
   "source": [
    "# Numpy\n",
    "import numpy as np\n",
    "\n",
    "# Pandas\n",
    "import pandas as pd\n",
    "\n",
    "# MatPlotLib\n",
    "import matplotlib.pyplot as plt\n",
    "\n",
    "# Sqlite\n",
    "import sqlite3 as sql"
   ]
  },
  {
   "cell_type": "markdown",
   "metadata": {},
   "source": [
    "* Connecting to the DataBase"
   ]
  },
  {
   "cell_type": "code",
   "execution_count": 3,
   "metadata": {},
   "outputs": [],
   "source": [
    "# db='/content/drive/MyDrive/Projects/IMDB Dataset/movies.sqlite'\n",
    "\n",
    "# Estabishing connections with the database\n",
    "db='movies.sqlite'\n",
    "conn=sql.connect(db)\n",
    "\n",
    "# Calling Cursor function\n",
    "cur=conn.cursor()\n"
   ]
  },
  {
   "cell_type": "markdown",
   "metadata": {},
   "source": [
    "1. Get all the data's of the movies"
   ]
  },
  {
   "cell_type": "code",
   "execution_count": null,
   "metadata": {},
   "outputs": [],
   "source": [
    "cur.execute(\"SELECT * FROM movies\")\n",
    "\n",
    "# Fetching all the datas\n",
    "movies=cur.fetchall()\n",
    "\n",
    "# Displaying the data\n",
    "movies"
   ]
  },
  {
   "cell_type": "markdown",
   "metadata": {},
   "source": [
    "2. Converting data to DataFrame"
   ]
  },
  {
   "cell_type": "code",
   "execution_count": null,
   "metadata": {},
   "outputs": [],
   "source": [
    "# Creating a DataFrame\n",
    "movies=pd.DataFrame(movies,columns=['id','original_title', 'budget', \"popularity\", 'release_date', 'revenue', 'title', 'vote_average', 'vote_count', 'overview', 'tagline', 'uid', 'director_id'])\n",
    "\n",
    "# Displaying the dataframe  \n",
    "movies"
   ]
  },
  {
   "cell_type": "markdown",
   "metadata": {},
   "source": [
    "3. Getting information of the dataset"
   ]
  },
  {
   "cell_type": "code",
   "execution_count": 82,
   "metadata": {},
   "outputs": [
    {
     "name": "stdout",
     "output_type": "stream",
     "text": [
      "<class 'pandas.core.frame.DataFrame'>\n",
      "RangeIndex: 4773 entries, 0 to 4772\n",
      "Data columns (total 13 columns):\n",
      " #   Column          Non-Null Count  Dtype  \n",
      "---  ------          --------------  -----  \n",
      " 0   id              4773 non-null   int64  \n",
      " 1   original_title  4773 non-null   object \n",
      " 2   budget          4773 non-null   int64  \n",
      " 3   popularity      4773 non-null   int64  \n",
      " 4   release_date    4773 non-null   object \n",
      " 5   revenue         4773 non-null   int64  \n",
      " 6   title           4773 non-null   object \n",
      " 7   avg_ratings     4773 non-null   float64\n",
      " 8   rating_count    4773 non-null   int64  \n",
      " 9   overview        4770 non-null   object \n",
      " 10  tagline         3951 non-null   object \n",
      " 11  uid             4773 non-null   int64  \n",
      " 12  director_id     4773 non-null   int64  \n",
      "dtypes: float64(1), int64(7), object(5)\n",
      "memory usage: 484.9+ KB\n"
     ]
    }
   ],
   "source": [
    "movies.info()"
   ]
  },
  {
   "cell_type": "markdown",
   "metadata": {},
   "source": [
    "4. Get all the data about directors"
   ]
  },
  {
   "cell_type": "code",
   "execution_count": null,
   "metadata": {},
   "outputs": [],
   "source": [
    "# Queried the directors\n",
    "cur.execute(\"SELECT * FROM directors\")\n",
    "directors=cur.fetchall()\n",
    "\n",
    "# Calling the directors var\n",
    "directors"
   ]
  },
  {
   "cell_type": "code",
   "execution_count": null,
   "metadata": {},
   "outputs": [],
   "source": [
    "# converting the directors data into a DataFrame\n",
    "directors=pd.DataFrame(directors, columns=[\"name\", \"id\", \"gender\", \"uid\", 'department'])\n",
    "directors"
   ]
  },
  {
   "cell_type": "markdown",
   "metadata": {},
   "source": [
    "5. Check how many movies are present in the IMDB table"
   ]
  },
  {
   "cell_type": "code",
   "execution_count": 84,
   "metadata": {},
   "outputs": [
    {
     "name": "stdout",
     "output_type": "stream",
     "text": [
      "The number of movies present in the IMDB dataset is (4773,)\n"
     ]
    }
   ],
   "source": [
    "cur.execute(\"SELECT COUNT(id) FROM movies\")\n",
    "count=cur.fetchall()\n",
    "print(f\"The number of movies present in the IMDB dataset is {count[0]}\")"
   ]
  },
  {
   "cell_type": "markdown",
   "metadata": {},
   "source": [
    "6. Find the directors : James Cameron, Luc Besson, John Woo"
   ]
  },
  {
   "cell_type": "code",
   "execution_count": 85,
   "metadata": {},
   "outputs": [
    {
     "name": "stdout",
     "output_type": "stream",
     "text": [
      "The three required directors are [('James Cameron', 4762, 2, 2710, 'Directing'), ('John Woo', 4893, 2, 11401, 'Directing'), ('Luc Besson', 4949, 2, 59, 'Directing')]\n"
     ]
    }
   ],
   "source": [
    "# cur.execute('''SELECT * FROM directors WHERE name=\"James Cameron\" or name=\"Luc Besson\" or name=\"John Woo\"''')\n",
    "cur.execute('''SELECT * FROM directors WHERE name in (\"James Cameron\", \"Luc Besson\", \"John Woo\")''')\n",
    "req_directors=cur.fetchall()\n",
    "print(f\"The three required directors are {req_directors}\")"
   ]
  },
  {
   "cell_type": "markdown",
   "metadata": {},
   "source": [
    "7. Find all the directors with name starting with the word 'Steven'"
   ]
  },
  {
   "cell_type": "code",
   "execution_count": 40,
   "metadata": {},
   "outputs": [
    {
     "name": "stdout",
     "output_type": "stream",
     "text": [
      "The directors whose name stats with the word 'Steven' are [('Steven Spielberg', 4799, 2, 488, 'Directing'), ('Steven Soderbergh', 4909, 2, 1884, 'Directing'), ('Steven Brill', 5013, 2, 32593, 'Directing'), ('Steven Zaillian', 5117, 2, 2260, 'Directing'), ('Steven Quale', 5216, 2, 93214, 'Directing'), ('Steven Seagal', 5221, 2, 23880, 'Directing'), ('Steven E. de Souza', 5390, 2, 1726, 'Directing'), ('Steven Shainberg', 5803, 2, 67795, 'Directing'), ('Steven R. Monroe', 6713, 2, 88039, 'Directing')]\n"
     ]
    }
   ],
   "source": [
    "cur.execute('''SELECT * FROM directors WHERE name LIKE \"Steven%\"''')\n",
    "word_starting_directors=cur.fetchall()\n",
    "print(f\"The directors whose name stats with the word 'Steven' are {word_starting_directors}\")"
   ]
  },
  {
   "cell_type": "markdown",
   "metadata": {},
   "source": [
    "8. Count the female directors (1)"
   ]
  },
  {
   "cell_type": "code",
   "execution_count": 45,
   "metadata": {},
   "outputs": [
    {
     "name": "stdout",
     "output_type": "stream",
     "text": [
      "The number of female directors are 150\n"
     ]
    }
   ],
   "source": [
    "cur.execute('''SELECT COUNT(name) FROM directors WHERE gender=1''')\n",
    "female_directors_count=cur.fetchall()\n",
    "print(f\"The number of female directors are {female_directors_count[0][0]}\")"
   ]
  },
  {
   "cell_type": "markdown",
   "metadata": {},
   "source": [
    "9. Find the name of the 10th first women directors"
   ]
  },
  {
   "cell_type": "code",
   "execution_count": null,
   "metadata": {},
   "outputs": [],
   "source": [
    "cur.execute('''SELECT name FROM directors WHERE gender=1''')\n",
    "female_directors=cur.fetchall()\n",
    "print(f\"The 1st 10th female director is {female_directors[9][0]}\")"
   ]
  },
  {
   "cell_type": "markdown",
   "metadata": {},
   "source": [
    "10. What are the 3 most popular movies"
   ]
  },
  {
   "cell_type": "code",
   "execution_count": 66,
   "metadata": {},
   "outputs": [
    {
     "name": "stdout",
     "output_type": "stream",
     "text": [
      "The 3 popular movies are : Minions, Interstellar,Deadpool\n"
     ]
    }
   ],
   "source": [
    "cur.execute('''SELECT original_title FROM movies ORDER BY popularity DESC LIMIT 3''')\n",
    "popular_movies=cur.fetchall()\n",
    "print(f\"The 3 popular movies are : {popular_movies[0][0]}, {popular_movies[1][0]},{popular_movies[2][0]}\")"
   ]
  },
  {
   "cell_type": "markdown",
   "metadata": {},
   "source": [
    "11. What are the 3 most bankable movies"
   ]
  },
  {
   "cell_type": "code",
   "execution_count": 67,
   "metadata": {},
   "outputs": [
    {
     "name": "stdout",
     "output_type": "stream",
     "text": [
      "The 3 popular movies are : Pirates of the Caribbean: On Stranger Tides, Pirates of the Caribbean: At World's End,Avengers: Age of Ultron\n"
     ]
    }
   ],
   "source": [
    "cur.execute('''SELECT original_title FROM movies ORDER BY budget DESC LIMIT 3''')\n",
    "bankable_movies=cur.fetchall()\n",
    "print(f\"The 3 popular movies are : {bankable_movies[0][0]}, {bankable_movies[1][0]},{bankable_movies[2][0]}\")"
   ]
  },
  {
   "cell_type": "markdown",
   "metadata": {},
   "source": [
    "12. Find the most awarded Average vote movies since Jan 1st 2000"
   ]
  },
  {
   "cell_type": "code",
   "execution_count": 105,
   "metadata": {},
   "outputs": [
    {
     "name": "stdout",
     "output_type": "stream",
     "text": [
      "Most awarded average rated movie is Stiff Upper Lips\n"
     ]
    }
   ],
   "source": [
    "cur.execute('''SELECT original_title FROM movies WHERE release_date > 2000-01-01 ORDER BY vote_average DESC LIMIT 1''')\n",
    "most_awarded_avg=cur.fetchall()\n",
    "print(f\"Most awarded average rated movie is {most_awarded_avg[0][0]}\")"
   ]
  },
  {
   "cell_type": "markdown",
   "metadata": {},
   "source": [
    "13. Which movies were directed by Brenda Chapman?"
   ]
  },
  {
   "cell_type": "code",
   "execution_count": 119,
   "metadata": {},
   "outputs": [
    {
     "name": "stdout",
     "output_type": "stream",
     "text": [
      "The movies(s) which are directed by Brenda Chapman are Brave\n"
     ]
    }
   ],
   "source": [
    "cur.execute('''SELECT movies.original_title FROM movies \n",
    "            INNER JOIN directors\n",
    "            ON movies.director_id=directors.id\n",
    "            WHERE directors.name=\"Brenda Chapman\"''')\n",
    "\n",
    "directed_movies=cur.fetchall()\n",
    "print(f\"The movies(s) which are directed by Brenda Chapman are {directed_movies[0][0]}\")"
   ]
  },
  {
   "cell_type": "markdown",
   "metadata": {},
   "source": [
    "14. Name the director who has directed the most number of movies"
   ]
  },
  {
   "cell_type": "code",
   "execution_count": 132,
   "metadata": {},
   "outputs": [
    {
     "name": "stdout",
     "output_type": "stream",
     "text": [
      "The director who directed most number of movies is Steven Spielberg\n"
     ]
    }
   ],
   "source": [
    "cur.execute('''SELECT directors.name FROM directors \n",
    "            INNER JOIN movies\n",
    "            ON movies.director_id=directors.id\n",
    "            GROUP BY directors.name\n",
    "            ORDER BY COUNT(movies.original_title) DESC LIMIT 1''')\n",
    "\n",
    "most_directed_movies=cur.fetchall()\n",
    "print(f\"The director who directed most number of movies is {most_directed_movies[0][0]}\")"
   ]
  },
  {
   "cell_type": "markdown",
   "metadata": {},
   "source": [
    "15. Find the name of the director who is most bankable"
   ]
  },
  {
   "cell_type": "code",
   "execution_count": 133,
   "metadata": {},
   "outputs": [
    {
     "name": "stdout",
     "output_type": "stream",
     "text": [
      "The director who directed most bankable is Steven Spielberg\n"
     ]
    }
   ],
   "source": [
    "cur.execute('''SELECT directors.name FROM directors \n",
    "            INNER JOIN movies\n",
    "            ON movies.director_id=directors.id\n",
    "            GROUP BY directors.name\n",
    "            ORDER BY SUM(budget) DESC LIMIT 1''')\n",
    "\n",
    "most_bankable_movies=cur.fetchall()\n",
    "print(f\"The director who directed most bankable is {most_bankable_movies[0][0]}\")"
   ]
  }
 ],
 "metadata": {
  "interpreter": {
   "hash": "cb4a6ece8dc9cf1f5b1565d05f1a189d257ecb16f7f86b5ca0cc8563c18481dc"
  },
  "kernelspec": {
   "display_name": "Python 3.9.7 ('base')",
   "language": "python",
   "name": "python3"
  },
  "language_info": {
   "codemirror_mode": {
    "name": "ipython",
    "version": 3
   },
   "file_extension": ".py",
   "mimetype": "text/x-python",
   "name": "python",
   "nbconvert_exporter": "python",
   "pygments_lexer": "ipython3",
   "version": "3.9.7"
  },
  "orig_nbformat": 4
 },
 "nbformat": 4,
 "nbformat_minor": 2
}
